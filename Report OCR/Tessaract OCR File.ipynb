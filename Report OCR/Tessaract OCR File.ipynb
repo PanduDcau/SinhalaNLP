{
 "cells": [
  {
   "cell_type": "code",
   "execution_count": 1,
   "id": "initial_id",
   "metadata": {
    "collapsed": true,
    "ExecuteTime": {
     "end_time": "2023-10-20T07:47:45.138507Z",
     "start_time": "2023-10-20T07:47:44.603726800Z"
    }
   },
   "outputs": [],
   "source": [
    "import cv2\n",
    "import numpy as np\n",
    "import pytesseract\n",
    "import re\n",
    "import os\n",
    "pytesseract.pytesseract.tesseract_cmd = r'C:\\Program Files\\Tesseract-OCR\\tesseract.exe'"
   ]
  },
  {
   "cell_type": "code",
   "execution_count": 18,
   "outputs": [],
   "source": [
    "img=cv2.imread('./metaImg/1.jpg')\n",
    "cv2.imshow(\"img\",img)\n",
    "cv2.waitKey(0)\n",
    "cv2.destroyAllWindows()"
   ],
   "metadata": {
    "collapsed": false,
    "ExecuteTime": {
     "end_time": "2023-10-10T10:49:05.825785200Z",
     "start_time": "2023-10-10T10:49:04.324002200Z"
    }
   },
   "id": "ac29cbcd0d06ea49"
  },
  {
   "cell_type": "code",
   "execution_count": 24,
   "outputs": [
    {
     "name": "stdout",
     "output_type": "stream",
     "text": [
      "SUWASEWANA\n",
      "MEDICAL LABORATORY\n",
      "\n",
      "Hambegamuwa. Tel. :071-64a0571\n",
      "\n",
      "° —\n",
      "\n",
      "patient's Name :HR, WANSAKA 23. ¥.0 40.0 ae\n",
      "referring sor.\n",
      "rest LcOMPLETE. BLOOD COUNT\n",
      "ay = Tapected Value\n",
      "TOTAL WHITE CELL COUNT $x 10797 4 (ao- an\n",
      "neorropnrus so\n",
      "Lmenoceres wos (20-408)\n",
      "wonoceres ona a0\n",
      "eosiiomss é a ace\n",
      "sasovines f oo 4\n",
      "HAEMOGLOBIN: g 12.1 g/dh\n",
      "x0 1000 cELLs ' Boo x 10 Zit }\n",
      "cx Gann vouome Rous a) (at )\n",
      "ens: cet, voumE eon (a0 = 1094\n",
      "nes cen naevoct0 23.6)b5 Sy\n",
      "env ceLt, Heawocios! pasion 37-6 g/t (2-36 3\n",
      "\n",
      "&\n",
      "\n",
      "piareuer cou aa4.430.-'971 (280 - 400.5\n",
      "\n",
      "PERFORMED BY: GENRUT KT-6400 HEMATOLOGY ANALYZER\n",
      "\n",
      "S&.-\n",
      "\n",
      "WAS WICKRAMASINGHE\n",
      "S.LaMt.C.2801 (8S, HLT)\n",
      "\n",
      "Laboratory Report - Confidential\n"
     ]
    }
   ],
   "source": [
    "text=pytesseract.image_to_string(img)\n",
    "print(text)"
   ],
   "metadata": {
    "collapsed": false,
    "ExecuteTime": {
     "end_time": "2023-10-10T10:50:04.179369300Z",
     "start_time": "2023-10-10T10:50:03.736681600Z"
    }
   },
   "id": "a21b790df0f8d7b6"
  },
  {
   "cell_type": "code",
   "execution_count": 31,
   "outputs": [
    {
     "name": "stdout",
     "output_type": "stream",
     "text": [
      "Cleaned Patient's Name: HR. WANSAKA\n"
     ]
    }
   ],
   "source": [
    "import re\n",
    "\n",
    "\n",
    "name_pattern = r\"(?:Name|Nane)\\s*:\\s*([A-Za-z.,\\s]+?)(?=\\d)\"\n",
    "\n",
    "# Extract the patient's name using regular expression\n",
    "match = re.search(name_pattern, text, re.IGNORECASE)\n",
    "\n",
    "if match:\n",
    "    patient_name = match.group(1).strip()\n",
    "    # Replace commas with dots and remove numbers\n",
    "    cleaned_name = re.sub(r'\\d', '', patient_name.replace(',', '.')).strip()\n",
    "    print(\"Cleaned Patient's Name:\", cleaned_name)\n",
    "else:\n",
    "    print(\"Patient's name not found in the text.\")"
   ],
   "metadata": {
    "collapsed": false,
    "ExecuteTime": {
     "end_time": "2023-10-10T10:50:54.286951300Z",
     "start_time": "2023-10-10T10:50:54.271286Z"
    }
   },
   "id": "e9df68500d73f75a"
  },
  {
   "cell_type": "markdown",
   "source": [
    "### New Analysis Work"
   ],
   "metadata": {
    "collapsed": false
   }
  },
  {
   "cell_type": "code",
   "execution_count": 2,
   "outputs": [],
   "source": [
    "img=cv2.imread('Mega1.png')\n",
    "cv2.imshow(\"img\",img)\n",
    "cv2.waitKey(0)\n",
    "cv2.destroyAllWindows()"
   ],
   "metadata": {
    "collapsed": false,
    "ExecuteTime": {
     "end_time": "2023-10-20T07:48:46.403677600Z",
     "start_time": "2023-10-20T07:48:40.772931300Z"
    }
   }
  },
  {
   "cell_type": "code",
   "execution_count": 3,
   "outputs": [
    {
     "name": "stdout",
     "output_type": "stream",
     "text": [
      " \n",
      "\n",
      " \n",
      "\n",
      "SUWASEWANA\n",
      "MEDICAL LABORATORY\n",
      "\n",
      "Hambegamuwa. Tel. :071-6a40571\n",
      "* = ———\n",
      "\n",
      " \n",
      "\n",
      " \n",
      "\n",
      " \n",
      "\n",
      " \n",
      "\n",
      " \n",
      "\n",
      " \n",
      "\n",
      " \n",
      "\n",
      " \n",
      "\n",
      "   \n",
      "\n",
      " \n",
      "\n",
      " \n",
      "\n",
      "Patient's Name R. HANSAKA 23. Y 0 MOD. een\n",
      "Referring 20k.\n",
      "\n",
      "‘test SCOMPLETE BLOOD COUNT\n",
      "\n",
      "Test Result\n",
      "\n",
      "TOTAL WHITE CELL COUNT 5.4 x 10 “9/ L 4.0- ii\n",
      "NeoraoPHTES aA :\n",
      "twewocyres 404 0-408)\n",
      "Nowocyres oa e\n",
      "\n",
      "eosINoPHIES, ‘ ans\n",
      "\n",
      "Sasori\n",
      "\n",
      "aeMosLoBEN 1a.t g/ah 6.0\n",
      "RED BL00D CELLS 60 x 10 2/t = 5.00)\n",
      "PACK CELL VOLUME 3210. ub (8) = Oe)\n",
      "MEAN CELL VOLUME 88.8 1 ( 100\n",
      "MEAN CELL HAENOGLO! 33.6 po (m4\n",
      "MEAN CELL HEAMOGLOBIN CONCENTRATION 37-8 a/a2 (32-36)\n",
      "PLATELET COUNT 34 x 10-97. (150 - 400 5\n",
      "\n",
      "PERFORMED BY: GENRUT KT-6400 HEMATOLOGY ANALYZER\n",
      "\n",
      "WAS WICKRAMASINGHE\n",
      "S.1.M.C.2601 (BSc, ML}\n",
      "\n",
      " \n",
      "\n",
      "$$ abortion report - Confident | _____\n",
      "\f\n"
     ]
    }
   ],
   "source": [
    "text=pytesseract.image_to_string(img)\n",
    "print(text)"
   ],
   "metadata": {
    "collapsed": false,
    "ExecuteTime": {
     "end_time": "2023-10-20T07:49:00.062815400Z",
     "start_time": "2023-10-20T07:48:58.972623Z"
    }
   }
  },
  {
   "cell_type": "code",
   "execution_count": 35,
   "outputs": [],
   "source": [
    "img2=cv2.imread('Meta2.jpeg')\n",
    "cv2.imshow(\"img2\",img2)\n",
    "cv2.waitKey(0)\n",
    "cv2.destroyAllWindows()"
   ],
   "metadata": {
    "collapsed": false,
    "ExecuteTime": {
     "end_time": "2023-10-20T08:24:12.710982800Z",
     "start_time": "2023-10-20T08:24:08.252207900Z"
    }
   }
  },
  {
   "cell_type": "code",
   "execution_count": 36,
   "outputs": [
    {
     "name": "stdout",
     "output_type": "stream",
     "text": [
      " \n",
      "   \n",
      " \n",
      "\n",
      "7\n",
      "SUWASEWAN:\n",
      "MEDICAL LABORATOR\n",
      "\n",
      "Hambegamuwa.\n",
      "\n",
      " \n",
      "\n",
      " \n",
      "\n",
      "pationt'aName  :MR. DHANAPALA $3. ¥ 04.00\n",
      "\n",
      " \n",
      "\n",
      " \n",
      "\n",
      " \n",
      "\n",
      " \n",
      "\n",
      "Referring\n",
      "test COMPLETE BLOOD COUNT\n",
      "\n",
      "ae Result abeceeees\n",
      "TOTAL WHITE CELL COUNT 1.1 x 10797 1 (4.0\n",
      "NEUTROPHILS ace (40-758),\n",
      "LYMPHOCYTES ws (20-408\n",
      "yonocyTES oz 8 (2-108)\n",
      "ROSINOPHILS os (a-68)\n",
      "BASOPHIL oo 8 (<2)\n",
      "inswotoBIN 8.5 ofan (12.0 - 16.5\n",
      "RED BLOOD CELLS 4.68 x20 “12/n (3.5 - 5.6\n",
      "PACK CELL VOLUME 27.2:0/b () (36-45\n",
      "MEAN CELL VOLUME se. 1 (78 - 96\n",
      "MEAN CELL, HAEMOGLOBIN 18.2 bg (26 - 33\n",
      "MEAN CELL HEAMOGLOBIN CONCENTRATION 31.5 g/dL (32 = se\n",
      "PLATELET count 241 2.10 * 9/2 (150 ~ 400\n",
      "\n",
      " \n",
      "\n",
      "+ GENRUI KT-6400 HEMATOLOGY ANALYZER\n",
      "\f\n"
     ]
    }
   ],
   "source": [
    "text2=pytesseract.image_to_string(img2)\n",
    "print(text2)"
   ],
   "metadata": {
    "collapsed": false,
    "ExecuteTime": {
     "end_time": "2023-10-20T08:24:14.791402200Z",
     "start_time": "2023-10-20T08:24:13.999261400Z"
    }
   }
  },
  {
   "cell_type": "code",
   "execution_count": 73,
   "outputs": [
    {
     "name": "stdout",
     "output_type": "stream",
     "text": [
      "<re.Match object; span=(70, 90), match='Name  :MR. DHANAPALA'>\n",
      "Cleaned Patient's Name: :MR. DHANAPALA\n"
     ]
    }
   ],
   "source": [
    "name_pattern = r'(?:Name|Nane)\\s*:\\s*(.*?[A-Za-z]{5,})'\n",
    "# Extract the patient's name using regular expression\n",
    "pattern = r\"(?:Name|Nane)(.*?)(?=[0-9a-zA-Z\\s.,!?](?:\\$|$))\"\n",
    "\n",
    "match = re.search(pattern, text2, re.IGNORECASE)\n",
    "print(match)\n",
    "if match:\n",
    "    patient_name= match.group(1).strip()\n",
    "    cleaned_name = re.sub(r'\\d', '', patient_name.replace(',', '.')).strip()\n",
    "    print(\"Cleaned Patient's Name:\", cleaned_name)\n",
    "else:\n",
    "    print(\"Patient's name not found in the text.\")"
   ],
   "metadata": {
    "collapsed": false,
    "ExecuteTime": {
     "end_time": "2023-10-20T08:54:25.956204700Z",
     "start_time": "2023-10-20T08:54:25.934132100Z"
    }
   }
  },
  {
   "cell_type": "code",
   "execution_count": 67,
   "outputs": [
    {
     "name": "stdout",
     "output_type": "stream",
     "text": [
      "<re.Match object; span=(122, 139), match='Name R. HANSAKA 2'>\n",
      "Cleaned Patient's Name: R. HANSAKA\n"
     ]
    }
   ],
   "source": [
    "import re\n",
    "# name_pattern = r\"(?:Name|Nane)\\s*:\\s*([A-Za-z.,\\s]+?)(?=\\d)\"\n",
    "\n",
    "name_pattern = r\"(?:Name|Nane)(.*?)(?=[0-9a-zA-Z\\s.,!?](?:\\. Y|$))\"\n",
    "\n",
    "# Extract the patient's name using regular expression\n",
    "match = re.search(name_pattern, text, re.IGNORECASE)\n",
    "print(match)\n",
    "\n",
    "if match:\n",
    "    patient_name = match.group(1).strip()\n",
    "    # Replace commas with dots and remove numbers\n",
    "    cleaned_name = re.sub(r'\\d', '', patient_name.replace(',', '.')).strip()\n",
    "    print(\"Cleaned Patient's Name:\", cleaned_name)\n",
    "else:\n",
    "    print(\"Patient's name not found in the text.\")\n"
   ],
   "metadata": {
    "collapsed": false,
    "ExecuteTime": {
     "end_time": "2023-10-20T08:50:24.791361300Z",
     "start_time": "2023-10-20T08:50:24.353227100Z"
    }
   }
  },
  {
   "cell_type": "code",
   "execution_count": null,
   "outputs": [],
   "source": [],
   "metadata": {
    "collapsed": false
   }
  }
 ],
 "metadata": {
  "kernelspec": {
   "display_name": "Python 3",
   "language": "python",
   "name": "python3"
  },
  "language_info": {
   "codemirror_mode": {
    "name": "ipython",
    "version": 2
   },
   "file_extension": ".py",
   "mimetype": "text/x-python",
   "name": "python",
   "nbconvert_exporter": "python",
   "pygments_lexer": "ipython2",
   "version": "2.7.6"
  }
 },
 "nbformat": 4,
 "nbformat_minor": 5
}
