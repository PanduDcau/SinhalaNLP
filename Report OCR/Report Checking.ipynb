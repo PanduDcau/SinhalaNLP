{
 "cells": [
  {
   "cell_type": "code",
   "execution_count": 1,
   "id": "initial_id",
   "metadata": {
    "collapsed": true,
    "ExecuteTime": {
     "end_time": "2023-10-14T17:59:13.643353200Z",
     "start_time": "2023-10-14T17:59:12.133208700Z"
    }
   },
   "outputs": [],
   "source": [
    "import cv2\n",
    "import numpy as np\n",
    "import pytesseract\n",
    "import re\n",
    "import os\n",
    "pytesseract.pytesseract.tesseract_cmd = r'C:\\Program Files\\Tesseract-OCR\\tesseract.exe'"
   ]
  },
  {
   "cell_type": "code",
   "execution_count": 7,
   "outputs": [],
   "source": [
    "img=cv2.imread('Mega1.png')\n",
    "cv2.imshow(\"img\",img)\n",
    "cv2.waitKey(0)\n",
    "cv2.destroyAllWindows()"
   ],
   "metadata": {
    "collapsed": false,
    "ExecuteTime": {
     "end_time": "2023-10-14T18:06:51.753069900Z",
     "start_time": "2023-10-14T18:06:50.267138200Z"
    }
   }
  },
  {
   "cell_type": "code",
   "execution_count": 8,
   "outputs": [
    {
     "name": "stdout",
     "output_type": "stream",
     "text": [
      " \n",
      "\n",
      " \n",
      "\n",
      "SUWASEWANA\n",
      "MEDICAL LABORATORY\n",
      "\n",
      "Hambegamuwa. Tel. :071-6a40571\n",
      "* = ———\n",
      "\n",
      " \n",
      "\n",
      " \n",
      "\n",
      " \n",
      "\n",
      " \n",
      "\n",
      " \n",
      "\n",
      " \n",
      "\n",
      " \n",
      "\n",
      " \n",
      "\n",
      "   \n",
      "\n",
      " \n",
      "\n",
      " \n",
      "\n",
      "Patient's Name R. HANSAKA 23. Y 0 MOD. een\n",
      "Referring 20k.\n",
      "\n",
      "‘test SCOMPLETE BLOOD COUNT\n",
      "\n",
      "Test Result\n",
      "\n",
      "TOTAL WHITE CELL COUNT 5.4 x 10 “9/ L 4.0- ii\n",
      "NeoraoPHTES aA :\n",
      "twewocyres 404 0-408)\n",
      "Nowocyres oa e\n",
      "\n",
      "eosINoPHIES, ‘ ans\n",
      "\n",
      "Sasori\n",
      "\n",
      "aeMosLoBEN 1a.t g/ah 6.0\n",
      "RED BL00D CELLS 60 x 10 2/t = 5.00)\n",
      "PACK CELL VOLUME 3210. ub (8) = Oe)\n",
      "MEAN CELL VOLUME 88.8 1 ( 100\n",
      "MEAN CELL HAENOGLO! 33.6 po (m4\n",
      "MEAN CELL HEAMOGLOBIN CONCENTRATION 37-8 a/a2 (32-36)\n",
      "PLATELET COUNT 34 x 10-97. (150 - 400 5\n",
      "\n",
      "PERFORMED BY: GENRUT KT-6400 HEMATOLOGY ANALYZER\n",
      "\n",
      "WAS WICKRAMASINGHE\n",
      "S.1.M.C.2601 (BSc, ML}\n",
      "\n",
      " \n",
      "\n",
      "$$ abortion report - Confident | _____\n",
      "\f\n"
     ]
    }
   ],
   "source": [
    "text=pytesseract.image_to_string(img)\n",
    "print(text)"
   ],
   "metadata": {
    "collapsed": false,
    "ExecuteTime": {
     "end_time": "2023-10-14T18:06:53.461674100Z",
     "start_time": "2023-10-14T18:06:52.952679400Z"
    }
   }
  },
  {
   "cell_type": "code",
   "execution_count": 17,
   "outputs": [
    {
     "name": "stdout",
     "output_type": "stream",
     "text": [
      "None\n",
      "Patient's name not found in the text.\n"
     ]
    }
   ],
   "source": [
    "import re\n",
    "# name_pattern = r\"(?:Name|Nane)\\s*:\\s*([A-Za-z.,\\s]+?)(?=\\d)\"\n",
    "\n",
    "name_pattern = r\"Patient's Name (.*?)[0-9a-zA-Z\\s.,!?]\\. Y 0 MOD\\.\"\n",
    "\n",
    "# Extract the patient's name using regular expression\n",
    "match = re.search(name_pattern, text, re.IGNORECASE)\n",
    "print(match)\n",
    "\n",
    "if match:\n",
    "    patient_name = match.group(1).strip()\n",
    "    # Replace commas with dots and remove numbers\n",
    "    cleaned_name = re.sub(r'\\d', '', patient_name.replace(',', '.')).strip()\n",
    "    print(\"Cleaned Patient's Name:\", cleaned_name)\n",
    "else:\n",
    "    print(\"Patient's name not found in the text.\")\n"
   ],
   "metadata": {
    "collapsed": false,
    "ExecuteTime": {
     "end_time": "2023-10-14T18:23:12.231260600Z",
     "start_time": "2023-10-14T18:23:12.219259100Z"
    }
   }
  },
  {
   "cell_type": "code",
   "execution_count": null,
   "outputs": [],
   "source": [],
   "metadata": {
    "collapsed": false
   }
  }
 ],
 "metadata": {
  "kernelspec": {
   "display_name": "Python 3",
   "language": "python",
   "name": "python3"
  },
  "language_info": {
   "codemirror_mode": {
    "name": "ipython",
    "version": 2
   },
   "file_extension": ".py",
   "mimetype": "text/x-python",
   "name": "python",
   "nbconvert_exporter": "python",
   "pygments_lexer": "ipython2",
   "version": "2.7.6"
  }
 },
 "nbformat": 4,
 "nbformat_minor": 5
}
