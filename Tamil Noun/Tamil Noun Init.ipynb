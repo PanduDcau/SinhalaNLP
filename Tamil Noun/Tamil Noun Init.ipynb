{
 "cells": [
  {
   "cell_type": "code",
   "execution_count": 2,
   "outputs": [],
   "source": [
    "import csv\n",
    "import pandas as pd\n",
    "import sinling\n",
    "\n",
    "# # Load the XLSX file into a DataFrame\n",
    "# xlsx_file = \"tamilData.xlsx\"\n",
    "# df = pd.read_excel(xlsx_file)\n",
    "# \n",
    "# # # Convert the DataFrame to a CSV file\n",
    "# csv_file = \"tamilData.csv\"\n",
    "# df.to_csv(csv_file, index=False)  # Set index=False to exclude the DataFrame index in the CSV file\n",
    "# \n",
    "# print(f\"XLSX file '{xlsx_file}' has been successfully converted to CSV file '{csv_file}'.\")"
   ],
   "metadata": {
    "collapsed": false,
    "ExecuteTime": {
     "end_time": "2024-01-02T17:37:21.043787500Z",
     "start_time": "2024-01-02T17:37:21.023580500Z"
    }
   }
  },
  {
   "cell_type": "code",
   "execution_count": 30,
   "outputs": [
    {
     "name": "stdout",
     "output_type": "stream",
     "text": [
      "{'செதுக்குதல்': 1}\n",
      "{'செதுக்குதல்': 2}\n",
      "Matching words and their counts:\n",
      "செதுக்குதல்: \t The Word Occurrence : 2\n"
     ]
    }
   ],
   "source": [
    "import csv\n",
    "\n",
    "def search_csv(file_path, sentence):\n",
    "    with open(file_path, mode='r', encoding='utf-8') as csv_file:\n",
    "        csv_reader = csv.reader(csv_file)\n",
    "        header = next(csv_reader)  # Assuming the first row is a header\n",
    "\n",
    "        # Assuming the sentence is in the first column (index 0)\n",
    "        sentence_column_index = 1\n",
    "\n",
    "        # Initialize a dictionary to store matching words and their counts\n",
    "        match_count_dict = {}\n",
    "\n",
    "        # Split the sentence into words\n",
    "        sentence_words = sentence.split()\n",
    "\n",
    "        for row in csv_reader:\n",
    "            # Get the word from the CSV column\n",
    "            csv_column_word = row[sentence_column_index]\n",
    "\n",
    "            # Check if the CSV column word is in the sentence\n",
    "            if csv_column_word in sentence_words:\n",
    "                # Update the match count in the dictionary\n",
    "                match_count_dict[csv_column_word] = match_count_dict.get(csv_column_word, 0) + 1\n",
    "                print(match_count_dict)\n",
    "\n",
    "        # Print the matching words and their counts\n",
    "        if match_count_dict:\n",
    "            print(\"Matching words and their counts:\")\n",
    "            for word, count in match_count_dict.items():\n",
    "                print(f\"{word}: \\t The Word Occurrence : {count}\")\n",
    "        else:\n",
    "            print(\"No matches found in the CSV file.\")\n",
    "\n",
    "\n",
    "# Example usage\n",
    "csv_file_path = 'tamilData.csv'\n",
    "search_sentence = 'கல்லூரி காலைவிழாவில் கல்லு கட செதுக்குதல் நான் நடனம் அடித்தல்'\n",
    "\n",
    "search_csv(csv_file_path, search_sentence)"
   ],
   "metadata": {
    "collapsed": false,
    "ExecuteTime": {
     "end_time": "2024-01-02T18:09:30.925742100Z",
     "start_time": "2024-01-02T18:09:30.879086300Z"
    }
   }
  },
  {
   "cell_type": "code",
   "execution_count": 41,
   "outputs": [
    {
     "name": "stdout",
     "output_type": "stream",
     "text": [
      "{'செதுக்குதல்': 1}\n",
      "Matching words and their counts:\n",
      "செதுக்குதல்: \t The Word Occurrence : 1\n",
      "Original Sentence: கல்லூரி காலைவிழாவில் கல்லு கட செதுக்குதல் நான் நடனம் அடித்தல்\n",
      "Updated Sentence: கல்லூரி காலைவிழாவில் கல் கடை செதுக்குதல் நான் கல்  அடித்தல்\n"
     ]
    }
   ],
   "source": [
    "def search_and_replace(file_path, sentence):\n",
    "    with open(file_path, mode='r', encoding='utf-8') as csv_file:\n",
    "        csv_reader = csv.reader(csv_file)\n",
    "        header = next(csv_reader)  # Assuming the first row is a header\n",
    "\n",
    "        # Assuming the sentence is in the first column (index 0)\n",
    "        sentence_column_index_1 = 0  # Noun column in the CSV file\n",
    "        sentence_column_index_2 = 1  # Verb column in the CSV file\n",
    "        replacement_column_index = 2  # Replacement Noun column in the CSV file\n",
    "        \n",
    "        print(\"Original Sentence:\",sentence)\n",
    "        updated_sentence = sentence\n",
    "        # replacements_made = False  # Flag to check if replacements are needed\n",
    "\n",
    "        # Split the sentence into words\n",
    "        sentence_words = sentence.split()\n",
    "\n",
    "        for row in csv_reader:\n",
    "            # Get the words from the CSV columns\n",
    "            csv_column_word_1 = row[sentence_column_index_1]\n",
    "            csv_column_word_2 = row[sentence_column_index_2]\n",
    "            replacement_word = row[replacement_column_index]\n",
    "            # print(csv_column_word_2)\n",
    "            # print(csv_column_word_1,replacement_word)\n",
    "            updated_sentence = updated_sentence.replace(csv_column_word_1, replacement_word)\n",
    "\n",
    "            # Check if the words from both columns are in the sentence\n",
    "            if csv_column_word_1 in sentence_words and csv_column_word_2 in sentence_words:\n",
    "                updated_sentence = updated_sentence.replace(csv_column_word_1, replacement_word)\n",
    "                updated_sentence = updated_sentence.replace(csv_column_word_2, replacement_word)\n",
    "                # replacements_made = True  # Set the flag to True\n",
    "            \n",
    "            # Check if any replacements were made\n",
    "            # if replacements_made:\n",
    "            #     print(\"Words replaced. Updated Sentence:\", updated_sentence)\n",
    "            # else:\n",
    "            #     print(\"No replacements made.\")\n",
    "\n",
    "        print(\"Updated Sentence:\", updated_sentence)\n",
    "\n",
    "\n",
    "# Example usage\n",
    "csv_file_path = 'tamilData.csv'\n",
    "\n",
    "# Test Case 1\n",
    "search_sentence = 'கல்லூரி காலைவிழாவில் கல்லு கட செதுக்குதல் நான் நடனம் அடித்தல்'\n",
    "search_csv(csv_file_path, search_sentence)\n",
    "search_and_replace(csv_file_path, search_sentence)"
   ],
   "metadata": {
    "collapsed": false,
    "ExecuteTime": {
     "end_time": "2024-01-02T18:22:32.414401400Z",
     "start_time": "2024-01-02T18:22:32.337132300Z"
    }
   }
  },
  {
   "cell_type": "code",
   "execution_count": 4,
   "outputs": [
    {
     "name": "stdout",
     "output_type": "stream",
     "text": [
      "Matching words and their counts:\n",
      "செதுக்குதல்: \t The Word Occurrence : 2\n",
      "Updated Sentence: கல்லூரி காலைவிழாவில் கல்லு கட செதுக்குதல் நான் நடனம் அடித்தல்\n"
     ]
    }
   ],
   "source": [
    "import csv\n",
    "\n",
    "def search_and_replace(file_path, sentence):\n",
    "    with open(file_path, mode='r', encoding='utf-8') as csv_file:\n",
    "        csv_reader = csv.reader(csv_file)\n",
    "        header = next(csv_reader)  # Assuming the first row is a header\n",
    "\n",
    "        # Assuming the sentence is in the first column (index 0)\n",
    "        sentence_column_index_1 = 0  # Noun column in the CSV file\n",
    "        sentence_column_index_2 = 1  # Verb column in the CSV file\n",
    "        replacement_column_index = 2  # Replacement Noun column in the CSV file\n",
    "\n",
    "        updated_sentence = sentence\n",
    "\n",
    "        # Split the sentence into words\n",
    "        sentence_words = sentence.split()\n",
    "\n",
    "        for row in csv_reader:\n",
    "            # Get the words from the CSV columns\n",
    "            csv_column_word_1 = row[sentence_column_index_1]\n",
    "            csv_column_word_2 = row[sentence_column_index_2]\n",
    "            replacement_word = row[replacement_column_index]\n",
    "\n",
    "            # Check if the words from both columns are in the sentence\n",
    "            if csv_column_word_1 in sentence_words and csv_column_word_2 in sentence_words:\n",
    "                # Replace the words in the sentence with the replacement word\n",
    "                updated_sentence = updated_sentence.replace(csv_column_word_1, replacement_word)\n",
    "                updated_sentence = updated_sentence.replace(csv_column_word_2, replacement_word)\n",
    "                break  # Assuming you want to replace only the first occurrence\n",
    "\n",
    "        print(\"Updated Sentence:\", updated_sentence)\n",
    "\n",
    "# Example usage\n",
    "csv_file_path = 'tamilData.csv'\n",
    "\n",
    "# Test Case 1\n",
    "search_sentence = 'கல்லூரி காலைவிழாவில் கல்லு கட செதுக்குதல் நான் நடனம் அடித்தல்'\n",
    "search_csv(csv_file_path, search_sentence)\n",
    "search_and_replace(csv_file_path, search_sentence)"
   ],
   "metadata": {
    "collapsed": false,
    "ExecuteTime": {
     "end_time": "2024-01-01T10:27:02.940118600Z",
     "start_time": "2024-01-01T10:27:02.819026900Z"
    }
   }
  },
  {
   "cell_type": "code",
   "execution_count": null,
   "outputs": [],
   "source": [],
   "metadata": {
    "collapsed": false
   }
  }
 ],
 "metadata": {
  "kernelspec": {
   "display_name": "Python 3",
   "language": "python",
   "name": "python3"
  },
  "language_info": {
   "codemirror_mode": {
    "name": "ipython",
    "version": 2
   },
   "file_extension": ".py",
   "mimetype": "text/x-python",
   "name": "python",
   "nbconvert_exporter": "python",
   "pygments_lexer": "ipython2",
   "version": "2.7.6"
  }
 },
 "nbformat": 4,
 "nbformat_minor": 0
}
