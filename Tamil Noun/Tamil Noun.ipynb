{
 "cells": [
  {
   "cell_type": "code",
   "execution_count": 1,
   "outputs": [],
   "source": [
    "from indicnlp import common\n",
    "from indicnlp import loader\n",
    "from indicnlp.tokenize import indic_tokenize"
   ],
   "metadata": {
    "collapsed": false,
    "ExecuteTime": {
     "end_time": "2023-12-22T11:15:58.766279700Z",
     "start_time": "2023-12-22T11:15:58.735006600Z"
    }
   }
  },
  {
   "cell_type": "code",
   "execution_count": 2,
   "outputs": [],
   "source": [
    "import requests\n",
    "\n",
    "from indicnlp import common\n",
    "from indicnlp import loader\n",
    "from urllib.parse import quote\n",
    "from indicnlp.transliterate.unicode_transliterate import ItransTransliterator"
   ],
   "metadata": {
    "collapsed": false,
    "ExecuteTime": {
     "end_time": "2023-12-22T11:16:01.300481500Z",
     "start_time": "2023-12-22T11:15:59.926999700Z"
    }
   }
  },
  {
   "cell_type": "code",
   "execution_count": 3,
   "outputs": [],
   "source": [
    "# The path to the local git repo for Indic NLP Resources\n",
    "INDIC_NLP_RESOURCES = r\"D:\\\\DC Universe\\\\Ucsc\\Fourth Year\\\\SCS4224 Final Year Project in Computer Science\\\\Sinhala Implementation\\\\Tamil Noun Replacment\\\\indic_nlp_library-master\"\n",
    "\n",
    "# Export the path to the Indic NLP Resources directory programmatically\n",
    "common.set_resources_path(INDIC_NLP_RESOURCES)\n",
    "\n",
    "# Initialize the Indic NLP library\n",
    "loader.load()"
   ],
   "metadata": {
    "collapsed": false,
    "ExecuteTime": {
     "end_time": "2023-12-22T11:16:01.347523400Z",
     "start_time": "2023-12-22T11:16:01.300481500Z"
    }
   }
  },
  {
   "cell_type": "code",
   "execution_count": 4,
   "outputs": [
    {
     "name": "stdout",
     "output_type": "stream",
     "text": [
      "['புத்துணர்ச்சி', 'யான']\n"
     ]
    }
   ],
   "source": [
    "# Tokenization\n",
    "indic_string = 'புத்துணர்ச்சியான சுவாசம் மற்றும் பளபளப்பான பற்கள் தங்களின் தோற்றத்தை நிர்ணயிக்கிறது'\n",
    "print('Input String: {}'.format(indic_string))\n",
    "print('Tokens: ')\n",
    "for t in indic_tokenize.trivial_tokenize(indic_string):\n",
    "        print(t)"
   ],
   "metadata": {
    "collapsed": false,
    "ExecuteTime": {
     "end_time": "2023-12-22T11:17:34.653130Z",
     "start_time": "2023-12-22T11:16:02.673463200Z"
    }
   }
  }
 ],
 "metadata": {
  "kernelspec": {
   "display_name": "Python 3",
   "language": "python",
   "name": "python3"
  },
  "language_info": {
   "codemirror_mode": {
    "name": "ipython",
    "version": 2
   },
   "file_extension": ".py",
   "mimetype": "text/x-python",
   "name": "python",
   "nbconvert_exporter": "python",
   "pygments_lexer": "ipython2",
   "version": "2.7.6"
  }
 },
 "nbformat": 4,
 "nbformat_minor": 0
}
