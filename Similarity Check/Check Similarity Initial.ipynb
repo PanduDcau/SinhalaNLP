{
 "cells": [
  {
   "cell_type": "markdown",
   "source": [
    "## Cosine Similarity"
   ],
   "metadata": {
    "collapsed": false
   }
  },
  {
   "cell_type": "code",
   "execution_count": 26,
   "outputs": [
    {
     "output_type": "stream",
     "name": "stdout",
     "text": [
      "Cosine Similarity: 0.33609692727625756\n"
     ]
    }
   ],
   "source": [
    "from sklearn.feature_extraction.text import TfidfVectorizer\n",
    "from sklearn.metrics.pairwise import cosine_similarity\n",
    "\n",
    "# Sample sentences\n",
    "sentence1 = \"අහස නිල් පාට වෙනව\"\n",
    "sentence2 = \"අහස ලා නිල් පාට වෙන්න පුලුහන්\"\n",
    "\n",
    "# Convert sentences to TF-IDF vectors\n",
    "vectorizer = TfidfVectorizer()\n",
    "tfidf_matrix = vectorizer.fit_transform([sentence1, sentence2])\n",
    "\n",
    "# Calculate cosine similarity\n",
    "cosine_sim = cosine_similarity(tfidf_matrix[0], tfidf_matrix[1])\n",
    "print(\"Cosine Similarity:\", cosine_sim[0][0])\n"
   ],
   "metadata": {
    "collapsed": false
   }
  },
  {
   "cell_type": "markdown",
   "source": [
    "## Jaccard Similarity"
   ],
   "metadata": {
    "collapsed": false
   }
  },
  {
   "cell_type": "code",
   "execution_count": 27,
   "outputs": [
    {
     "output_type": "stream",
     "name": "stdout",
     "text": [
      "Jaccard Similarity: 0.42857142857142855\n"
     ]
    }
   ],
   "source": [
    "# Sample sentences\n",
    "sentence1 = \"අහස නිල් පාට වෙනව\"\n",
    "sentence2 = \"අහස ලා නිල් පාට වෙන්න පුලුහන්\"\n",
    "\n",
    "# Tokenize sentences into sets of words\n",
    "words1 = set(sentence1.lower().split())\n",
    "words2 = set(sentence2.lower().split())\n",
    "\n",
    "# Calculate Jaccard similarity\n",
    "jaccard_sim = len(words1.intersection(words2)) / len(words1.union(words2))\n",
    "print(\"Jaccard Similarity:\", jaccard_sim)\n"
   ],
   "metadata": {
    "collapsed": false
   }
  }
 ],
 "metadata": {
  "kernelspec": {
   "display_name": "Python 3",
   "language": "python",
   "name": "python3"
  },
  "language_info": {
   "codemirror_mode": {
    "name": "ipython",
    "version": 2
   },
   "file_extension": ".py",
   "mimetype": "text/x-python",
   "name": "python",
   "nbconvert_exporter": "python",
   "pygments_lexer": "ipython2",
   "version": "2.7.6"
  }
 },
 "nbformat": 4,
 "nbformat_minor": 0
}
